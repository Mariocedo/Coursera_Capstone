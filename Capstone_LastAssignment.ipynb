{
 "cells": [
  {
   "cell_type": "markdown",
   "metadata": {
    "collapsed": true
   },
   "source": [
    "# Week 4"
   ]
  },
  {
   "cell_type": "markdown",
   "metadata": {},
   "source": [
    "\n",
    "### Problem Description\n",
    "\n",
    "When deciding to open a restaurant, location is one of the biggest key factors influencing the success of the business. Given this small detail has such a high impact on the restaurant survivability, every businessman would be interested to know a priori where they should build their business. Which places have a higher tendency to lead to success and which ones are doomed to fail. \n",
    "\n",
    "To have a general idea of what the problem entails, let us think about what type of location would be ideal. The new installations need to be in a good neighbourhood, one which is relatively quiet, but simultaneously crowded and with a sizeable crowd in order to increase the chances to find costumers. Moreover, it is best not to have too many restaurants around in order to decrease the competition between the different food establishments, but while also avoiding empty areas, or areas that are not associated with the business at hand.\n",
    "\n",
    "Overall, there is no ideal neighbourhood and there are no hard constraints. One needs to find the equilibrium between the different requirements. So as to solve the problem present, in this project we will develop and approach that relies on machine learning and data extraction tools in order to figure out whether a certain neighbourhood has potential for us to build our restaurant.\n"
   ]
  },
  {
   "cell_type": "markdown",
   "metadata": {},
   "source": [
    "### Data description\n",
    "\n",
    "The study will focus on the area of Lisbon.\n",
    "\n",
    "We will extract data from the listo of top 30 restaurants in Lisbon along with their addresses, from the zomato website (https://www.zomato.com/), as well as the list of bottom 30 restaurants (in ordert o have a means of comparison).\n",
    "\n",
    "We will be using the tool foursquare, in order to get the location data from each restaurant.\n"
   ]
  },
  {
   "cell_type": "markdown",
   "metadata": {},
   "source": [
    "### Methodology\n",
    "\n",
    "Having the Adresses and the respective location data from the restaurants, it will be necessary to properly clean it and prepare it for posterior analysis.\n",
    "\n",
    "Afterwards, we will be able to compare the data obtained from foursquare and try to identify trends among the similar restaurantes and differences between the two different kinds. \n",
    "\n",
    "Moreover, we will be able to build machine learning models, such as decision trees, that will help us determine wether or not a certain location is fit to have a new restaurant.\n"
   ]
  },
  {
   "cell_type": "markdown",
   "metadata": {},
   "source": [
    "# Week 5"
   ]
  },
  {
   "cell_type": "markdown",
   "metadata": {},
   "source": [
    "NOTE: The maps in the notebook are not shown if seen from github directly. Please download the notebook, and set select the 'Trust Notebook' from the File menu to see the maps."
   ]
  },
  {
   "cell_type": "markdown",
   "metadata": {},
   "source": [
    "### Results"
   ]
  },
  {
   "cell_type": "markdown",
   "metadata": {},
   "source": [
    "Dataframe with top 15 restaurants from Lissabon (Label = 1) and bottom 15 restaurants from Lissabon (Label = 0)"
   ]
  },
  {
   "cell_type": "code",
   "execution_count": 2,
   "metadata": {},
   "outputs": [
    {
     "data": {
      "text/html": [
       "<div>\n",
       "<style scoped>\n",
       "    .dataframe tbody tr th:only-of-type {\n",
       "        vertical-align: middle;\n",
       "    }\n",
       "\n",
       "    .dataframe tbody tr th {\n",
       "        vertical-align: top;\n",
       "    }\n",
       "\n",
       "    .dataframe thead th {\n",
       "        text-align: right;\n",
       "    }\n",
       "</style>\n",
       "<table border=\"1\" class=\"dataframe\">\n",
       "  <thead>\n",
       "    <tr style=\"text-align: right;\">\n",
       "      <th></th>\n",
       "      <th>Address</th>\n",
       "      <th>Name</th>\n",
       "      <th>Label</th>\n",
       "    </tr>\n",
       "  </thead>\n",
       "  <tbody>\n",
       "    <tr>\n",
       "      <th>0</th>\n",
       "      <td>1600-488 Lisboa</td>\n",
       "      <td>Volver de Carne Y Alma</td>\n",
       "      <td>1</td>\n",
       "    </tr>\n",
       "    <tr>\n",
       "      <th>1</th>\n",
       "      <td>1150-017 Lisboa</td>\n",
       "      <td>Ramiro</td>\n",
       "      <td>1</td>\n",
       "    </tr>\n",
       "    <tr>\n",
       "      <th>2</th>\n",
       "      <td>1250-096 Lisboa</td>\n",
       "      <td>Yakuza First Floor</td>\n",
       "      <td>1</td>\n",
       "    </tr>\n",
       "    <tr>\n",
       "      <th>3</th>\n",
       "      <td>1050-149 Lisboa</td>\n",
       "      <td>Go Juu</td>\n",
       "      <td>1</td>\n",
       "    </tr>\n",
       "    <tr>\n",
       "      <th>4</th>\n",
       "      <td>1200-443 Lisboa</td>\n",
       "      <td>Belcanto</td>\n",
       "      <td>1</td>\n",
       "    </tr>\n",
       "  </tbody>\n",
       "</table>\n",
       "</div>"
      ],
      "text/plain": [
       "           Address                    Name  Label\n",
       "0  1600-488 Lisboa  Volver de Carne Y Alma      1\n",
       "1  1150-017 Lisboa                  Ramiro      1\n",
       "2  1250-096 Lisboa      Yakuza First Floor      1\n",
       "3  1050-149 Lisboa                  Go Juu      1\n",
       "4  1200-443 Lisboa                Belcanto      1"
      ]
     },
     "execution_count": 2,
     "metadata": {},
     "output_type": "execute_result"
    }
   ],
   "source": [
    "import pandas as pd\n",
    "\n",
    "columns = [\"Address\", \"Name\", \"Label\"]\n",
    "data = [\n",
    "        [\"1600-488 Lisboa\", \"Volver de Carne Y Alma\", 1],\n",
    "        [\"1150-017 Lisboa\", \"Ramiro\", 1],\n",
    "        [\"1250-096 Lisboa\", \"Yakuza First Floor\", 1],\n",
    "        [\"1050-149 Lisboa\", \"Go Juu\", 1],\n",
    "        [\"1200-443 Lisboa\", \"Belcanto\", 1],\n",
    "        [\"1200-027 Lisboa\", \"Mini Bar\", 1],\n",
    "        [\"1050-241 Lisboa\", \"Nomada\", 1],\n",
    "        [\"2620-515 Ramada\", \"Tutto Combinato\", 1],\n",
    "        [\"1250-095 Lisboa\", \"A Cevicheria\", 1],\n",
    "        [\"1200-334 Lisboa\", \"Bistro 100 Maneiras\", 1],\n",
    "        [\"1200-023 Lisboa\", \"Alma\", 1],\n",
    "        [\"2710-175 Sintra\", \"Tybuas\", 1],\n",
    "        [\"1200-369 Lisboa\", \"Boa-Bao\", 1],\n",
    "        [\"1250-039 Lisboa\", \"Forno d'Oro\", 1],\n",
    "        [\"2775-551 Carcavelos\", \"Marino\", 0],\n",
    "        [\"1900-806 Lisboa\", \"Chines Jingly\", 0],\n",
    "        [\"1100-061 Lisboa\", \"Heaven's Door\", 0],\n",
    "        [\"2710-616 Sintra\", \"Cafe da Villa\", 0],\n",
    "        [\"2750-642 Cascais\", \"Flamingo Cafe\", 0],\n",
    "        [\"1700-094 Lisboa\", \"Tatu\", 0],\n",
    "        [\"1050-170 Lisboa\", \"Maracan’\", 0],\n",
    "        [\"1200-043 Lisboa\", \"Espa?o Acad?mico de Lisboa\", 0],\n",
    "        [\"1000-139 Lisboa\", \"Osaka\", 0],\n",
    "        [\"2690-264 Santa Iria De Azoia\", \"O Tolan\", 0],\n",
    "        [\"2900-454 Setubal\", \"Saca Rolhas\", 0],\n",
    "        [\"2825-343 Costa da Caparica\", \"BBQ - Casa de Petiscos\", 0],\n",
    "        [\"2705-334 Colares\", \"Casa da Gal\", 0],\n",
    "        [\"1750-006 Lisboa\", \"Groovy\", 0],\n",
    "        [\"2800-270 Almada\", \"O Peralta\", 0]\n",
    "]\n",
    "\n",
    "df = pd.DataFrame(data, columns=columns)\n",
    "\n",
    "df.head()"
   ]
  },
  {
   "cell_type": "markdown",
   "metadata": {},
   "source": [
    "Get Latitude/Longitude of different restaurants"
   ]
  },
  {
   "cell_type": "code",
   "execution_count": 3,
   "metadata": {},
   "outputs": [
    {
     "name": "stdout",
     "output_type": "stream",
     "text": [
      "Collecting geocoder\n",
      "  Downloading geocoder-1.38.1-py2.py3-none-any.whl (98 kB)\n",
      "\u001b[K     |████████████████████████████████| 98 kB 7.7 MB/s  eta 0:00:01\n",
      "\u001b[?25hRequirement already satisfied: six in /opt/conda/envs/Python-3.7-main/lib/python3.7/site-packages (from geocoder) (1.15.0)\n",
      "Requirement already satisfied: click in /opt/conda/envs/Python-3.7-main/lib/python3.7/site-packages (from geocoder) (7.1.2)\n",
      "Requirement already satisfied: requests in /opt/conda/envs/Python-3.7-main/lib/python3.7/site-packages (from geocoder) (2.24.0)\n",
      "Collecting ratelim\n",
      "  Downloading ratelim-0.1.6-py2.py3-none-any.whl (4.0 kB)\n",
      "Requirement already satisfied: future in /opt/conda/envs/Python-3.7-main/lib/python3.7/site-packages (from geocoder) (0.18.2)\n",
      "Requirement already satisfied: idna<3,>=2.5 in /opt/conda/envs/Python-3.7-main/lib/python3.7/site-packages (from requests->geocoder) (2.9)\n",
      "Requirement already satisfied: chardet<4,>=3.0.2 in /opt/conda/envs/Python-3.7-main/lib/python3.7/site-packages (from requests->geocoder) (3.0.4)\n",
      "Requirement already satisfied: urllib3!=1.25.0,!=1.25.1,<1.26,>=1.21.1 in /opt/conda/envs/Python-3.7-main/lib/python3.7/site-packages (from requests->geocoder) (1.25.9)\n",
      "Requirement already satisfied: certifi>=2017.4.17 in /opt/conda/envs/Python-3.7-main/lib/python3.7/site-packages (from requests->geocoder) (2020.6.20)\n",
      "Requirement already satisfied: decorator in /opt/conda/envs/Python-3.7-main/lib/python3.7/site-packages (from ratelim->geocoder) (4.4.2)\n",
      "Installing collected packages: ratelim, geocoder\n",
      "Successfully installed geocoder-1.38.1 ratelim-0.1.6\n"
     ]
    }
   ],
   "source": [
    "!pip install geocoder\n",
    "import geocoder\n",
    "# fetch all latitudes/longitudes\n",
    "\n",
    "latitude=[]\n",
    "longitude=[]\n",
    "for code in df['Address']:\n",
    "    g = geocoder.arcgis('{}, Lisboa, Portugal'.format(code))\n",
    "    while (g.latlng is None):\n",
    "        g = geocoder.arcgis('{}, Lisboa, Portugal'.format(code))\n",
    "    latlng = g.latlng\n",
    "    latitude.append(latlng[0])\n",
    "    longitude.append(latlng[1])"
   ]
  },
  {
   "cell_type": "code",
   "execution_count": 4,
   "metadata": {},
   "outputs": [
    {
     "data": {
      "text/html": [
       "<div>\n",
       "<style scoped>\n",
       "    .dataframe tbody tr th:only-of-type {\n",
       "        vertical-align: middle;\n",
       "    }\n",
       "\n",
       "    .dataframe tbody tr th {\n",
       "        vertical-align: top;\n",
       "    }\n",
       "\n",
       "    .dataframe thead th {\n",
       "        text-align: right;\n",
       "    }\n",
       "</style>\n",
       "<table border=\"1\" class=\"dataframe\">\n",
       "  <thead>\n",
       "    <tr style=\"text-align: right;\">\n",
       "      <th></th>\n",
       "      <th>Address</th>\n",
       "      <th>Name</th>\n",
       "      <th>Label</th>\n",
       "      <th>Latitude</th>\n",
       "      <th>Longitude</th>\n",
       "    </tr>\n",
       "  </thead>\n",
       "  <tbody>\n",
       "    <tr>\n",
       "      <th>0</th>\n",
       "      <td>1600-488 Lisboa</td>\n",
       "      <td>Volver de Carne Y Alma</td>\n",
       "      <td>1</td>\n",
       "      <td>38.771081</td>\n",
       "      <td>-9.162281</td>\n",
       "    </tr>\n",
       "    <tr>\n",
       "      <th>1</th>\n",
       "      <td>1150-017 Lisboa</td>\n",
       "      <td>Ramiro</td>\n",
       "      <td>1</td>\n",
       "      <td>38.721504</td>\n",
       "      <td>-9.135401</td>\n",
       "    </tr>\n",
       "    <tr>\n",
       "      <th>2</th>\n",
       "      <td>1250-096 Lisboa</td>\n",
       "      <td>Yakuza First Floor</td>\n",
       "      <td>1</td>\n",
       "      <td>38.717896</td>\n",
       "      <td>-9.161970</td>\n",
       "    </tr>\n",
       "    <tr>\n",
       "      <th>3</th>\n",
       "      <td>1050-149 Lisboa</td>\n",
       "      <td>Go Juu</td>\n",
       "      <td>1</td>\n",
       "      <td>38.735616</td>\n",
       "      <td>-9.152228</td>\n",
       "    </tr>\n",
       "    <tr>\n",
       "      <th>4</th>\n",
       "      <td>1200-443 Lisboa</td>\n",
       "      <td>Belcanto</td>\n",
       "      <td>1</td>\n",
       "      <td>38.710550</td>\n",
       "      <td>-9.141636</td>\n",
       "    </tr>\n",
       "  </tbody>\n",
       "</table>\n",
       "</div>"
      ],
      "text/plain": [
       "           Address                    Name  Label   Latitude  Longitude\n",
       "0  1600-488 Lisboa  Volver de Carne Y Alma      1  38.771081  -9.162281\n",
       "1  1150-017 Lisboa                  Ramiro      1  38.721504  -9.135401\n",
       "2  1250-096 Lisboa      Yakuza First Floor      1  38.717896  -9.161970\n",
       "3  1050-149 Lisboa                  Go Juu      1  38.735616  -9.152228\n",
       "4  1200-443 Lisboa                Belcanto      1  38.710550  -9.141636"
      ]
     },
     "execution_count": 4,
     "metadata": {},
     "output_type": "execute_result"
    }
   ],
   "source": [
    "# Add columns to dataframe\n",
    "\n",
    "df[\"Latitude\"] = latitude\n",
    "df[\"Longitude\"] = longitude\n",
    "\n",
    "df['Label'] = df['Label'].astype(int)\n",
    "\n",
    "df.head()"
   ]
  },
  {
   "cell_type": "code",
   "execution_count": 5,
   "metadata": {},
   "outputs": [
    {
     "name": "stdout",
     "output_type": "stream",
     "text": [
      "Collecting folium\n",
      "  Downloading folium-0.11.0-py2.py3-none-any.whl (93 kB)\n",
      "\u001b[K     |████████████████████████████████| 93 kB 3.6 MB/s  eta 0:00:01\n",
      "\u001b[?25hRequirement already satisfied: jinja2>=2.9 in /opt/conda/envs/Python-3.7-main/lib/python3.7/site-packages (from folium) (2.11.2)\n",
      "Collecting branca>=0.3.0\n",
      "  Downloading branca-0.4.1-py3-none-any.whl (24 kB)\n",
      "Requirement already satisfied: numpy in /opt/conda/envs/Python-3.7-main/lib/python3.7/site-packages (from folium) (1.18.5)\n",
      "Requirement already satisfied: requests in /opt/conda/envs/Python-3.7-main/lib/python3.7/site-packages (from folium) (2.24.0)\n",
      "Requirement already satisfied: MarkupSafe>=0.23 in /opt/conda/envs/Python-3.7-main/lib/python3.7/site-packages (from jinja2>=2.9->folium) (1.1.1)\n",
      "Requirement already satisfied: idna<3,>=2.5 in /opt/conda/envs/Python-3.7-main/lib/python3.7/site-packages (from requests->folium) (2.9)\n",
      "Requirement already satisfied: certifi>=2017.4.17 in /opt/conda/envs/Python-3.7-main/lib/python3.7/site-packages (from requests->folium) (2020.6.20)\n",
      "Requirement already satisfied: chardet<4,>=3.0.2 in /opt/conda/envs/Python-3.7-main/lib/python3.7/site-packages (from requests->folium) (3.0.4)\n",
      "Requirement already satisfied: urllib3!=1.25.0,!=1.25.1,<1.26,>=1.21.1 in /opt/conda/envs/Python-3.7-main/lib/python3.7/site-packages (from requests->folium) (1.25.9)\n",
      "Installing collected packages: branca, folium\n",
      "Successfully installed branca-0.4.1 folium-0.11.0\n"
     ]
    }
   ],
   "source": [
    "\n",
    "import json # library to handle JSON files\n",
    "\n",
    "#!conda install -c conda-forge geopy --yes # uncomment this line if you haven't completed the Foursquare API lab\n",
    "from geopy.geocoders import Nominatim # convert an address into latitude and longitude values\n",
    "\n",
    "import requests # library to handle requests\n",
    "from pandas.io.json import json_normalize # tranform JSON file into a pandas dataframe\n",
    "\n",
    "# Matplotlib and associated plotting modules\n",
    "import matplotlib.cm as cm\n",
    "import matplotlib.colors as colors\n",
    "\n",
    "!pip install folium\n",
    "import folium # map rendering library\n"
   ]
  },
  {
   "cell_type": "code",
   "execution_count": 30,
   "metadata": {},
   "outputs": [
    {
     "name": "stdout",
     "output_type": "stream",
     "text": [
      "The geograpical coordinate of Lisboa are 38.7077507, -9.1365919.\n"
     ]
    },
    {
     "data": {
      "text/html": [
       "<div style=\"width:100%;\"><div style=\"position:relative;width:100%;height:0;padding-bottom:60%;\"><span style=\"color:#565656\">Make this Notebook Trusted to load map: File -> Trust Notebook</span><iframe src=\"about:blank\" style=\"position:absolute;width:100%;height:100%;left:0;top:0;border:none !important;\" data-html=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 onload=\"this.contentDocument.open();this.contentDocument.write(atob(this.getAttribute('data-html')));this.contentDocument.close();\" allowfullscreen webkitallowfullscreen mozallowfullscreen></iframe></div></div>"
      ],
      "text/plain": [
       "<folium.folium.Map at 0x7fa4032ff1d0>"
      ]
     },
     "execution_count": 30,
     "metadata": {},
     "output_type": "execute_result"
    }
   ],
   "source": [
    "# Visualize points in map\n",
    "\n",
    "address = 'Lisboa'\n",
    "\n",
    "geolocator = Nominatim(user_agent=\"TO_explorer\")\n",
    "location = geolocator.geocode(address)\n",
    "latitude = location.latitude\n",
    "longitude = location.longitude\n",
    "print('The geograpical coordinate of Lisboa are {}, {}.'.format(latitude, longitude))\n",
    "\n",
    "# create map of New York using latitude and longitude values\n",
    "map_lisboa = folium.Map(location=[latitude, longitude], zoom_start=11)\n",
    "\n",
    "colors = ['red', 'blue']\n",
    "\n",
    "# add markers to map\n",
    "for lat, lng, address, label_id in zip(df['Latitude'], df['Longitude'], df['Address'], df['Label']):\n",
    "    label = '{}'.format(address)\n",
    "    label = folium.Popup(label, parse_html=True)\n",
    "    folium.CircleMarker(\n",
    "        [lat, lng],\n",
    "        radius=5,\n",
    "        popup=label,\n",
    "        color=colors[label_id],\n",
    "        fill=True,\n",
    "        fill_color='#3186cc',\n",
    "        fill_opacity=0.7,\n",
    "        parse_html=False).add_to(map_lisboa)  \n",
    "    \n",
    "map_lisboa"
   ]
  },
  {
   "cell_type": "code",
   "execution_count": 10,
   "metadata": {},
   "outputs": [],
   "source": []
  },
  {
   "cell_type": "code",
   "execution_count": 11,
   "metadata": {},
   "outputs": [],
   "source": [
    "\n",
    "# Function to fetch venues data from foursquare\n",
    "\n",
    "def getNearbyVenues(names, latitudes, longitudes, radius=500, limit = 100):\n",
    "    \n",
    "    venues_list=[]\n",
    "    for name, lat, lng in zip(names, latitudes, longitudes):\n",
    "            \n",
    "        # create the API request URL\n",
    "        url = 'https://api.foursquare.com/v2/venues/explore?&client_id={}&client_secret={}&v={}&ll={},{}&radius={}&limit={}'.format(\n",
    "            CLIENT_ID, \n",
    "            CLIENT_SECRET, \n",
    "            VERSION, \n",
    "            lat, \n",
    "            lng, \n",
    "            radius, \n",
    "            limit)\n",
    "            \n",
    "        # make the GET request\n",
    "        results = requests.get(url).json()[\"response\"]['groups'][0]['items']\n",
    "        \n",
    "        # return only relevant information for each nearby venue\n",
    "        venues_list.append([(\n",
    "            name, \n",
    "            lat, \n",
    "            lng, \n",
    "            v['venue']['name'], \n",
    "            v['venue']['location']['lat'], \n",
    "            v['venue']['location']['lng'],  \n",
    "            v['venue']['categories'][0]['name']) for v in results])\n",
    "\n",
    "    nearby_venues = pd.DataFrame([item for venue_list in venues_list for item in venue_list])\n",
    "    nearby_venues.columns = ['Address', \n",
    "                              'Address Latitude', \n",
    "                              'Address Longitude', \n",
    "                              'Venue', \n",
    "                              'Venue Latitude', \n",
    "                              'Venue Longitude', \n",
    "                              'Venue Category']\n",
    "    \n",
    "    return(nearby_venues)"
   ]
  },
  {
   "cell_type": "code",
   "execution_count": 12,
   "metadata": {},
   "outputs": [
    {
     "data": {
      "text/html": [
       "<div>\n",
       "<style scoped>\n",
       "    .dataframe tbody tr th:only-of-type {\n",
       "        vertical-align: middle;\n",
       "    }\n",
       "\n",
       "    .dataframe tbody tr th {\n",
       "        vertical-align: top;\n",
       "    }\n",
       "\n",
       "    .dataframe thead th {\n",
       "        text-align: right;\n",
       "    }\n",
       "</style>\n",
       "<table border=\"1\" class=\"dataframe\">\n",
       "  <thead>\n",
       "    <tr style=\"text-align: right;\">\n",
       "      <th></th>\n",
       "      <th>Address</th>\n",
       "      <th>Address Latitude</th>\n",
       "      <th>Address Longitude</th>\n",
       "      <th>Venue</th>\n",
       "      <th>Venue Latitude</th>\n",
       "      <th>Venue Longitude</th>\n",
       "      <th>Venue Category</th>\n",
       "    </tr>\n",
       "  </thead>\n",
       "  <tbody>\n",
       "    <tr>\n",
       "      <th>0</th>\n",
       "      <td>1600-488 Lisboa</td>\n",
       "      <td>38.771081</td>\n",
       "      <td>-9.162281</td>\n",
       "      <td>Volver By Chakall</td>\n",
       "      <td>38.770113</td>\n",
       "      <td>-9.160823</td>\n",
       "      <td>Argentinian Restaurant</td>\n",
       "    </tr>\n",
       "    <tr>\n",
       "      <th>1</th>\n",
       "      <td>1600-488 Lisboa</td>\n",
       "      <td>38.771081</td>\n",
       "      <td>-9.162281</td>\n",
       "      <td>O Trenó</td>\n",
       "      <td>38.772394</td>\n",
       "      <td>-9.160767</td>\n",
       "      <td>Bakery</td>\n",
       "    </tr>\n",
       "    <tr>\n",
       "      <th>2</th>\n",
       "      <td>1600-488 Lisboa</td>\n",
       "      <td>38.771081</td>\n",
       "      <td>-9.162281</td>\n",
       "      <td>A Padaria Portuguesa</td>\n",
       "      <td>38.771939</td>\n",
       "      <td>-9.160664</td>\n",
       "      <td>Bakery</td>\n",
       "    </tr>\n",
       "    <tr>\n",
       "      <th>3</th>\n",
       "      <td>1600-488 Lisboa</td>\n",
       "      <td>38.771081</td>\n",
       "      <td>-9.162281</td>\n",
       "      <td>Frangos do Rei</td>\n",
       "      <td>38.770299</td>\n",
       "      <td>-9.159810</td>\n",
       "      <td>BBQ Joint</td>\n",
       "    </tr>\n",
       "    <tr>\n",
       "      <th>4</th>\n",
       "      <td>1600-488 Lisboa</td>\n",
       "      <td>38.771081</td>\n",
       "      <td>-9.162281</td>\n",
       "      <td>Bar da Filipa</td>\n",
       "      <td>38.772321</td>\n",
       "      <td>-9.160836</td>\n",
       "      <td>Café</td>\n",
       "    </tr>\n",
       "  </tbody>\n",
       "</table>\n",
       "</div>"
      ],
      "text/plain": [
       "           Address  Address Latitude  Address Longitude                 Venue  \\\n",
       "0  1600-488 Lisboa         38.771081          -9.162281     Volver By Chakall   \n",
       "1  1600-488 Lisboa         38.771081          -9.162281               O Trenó   \n",
       "2  1600-488 Lisboa         38.771081          -9.162281  A Padaria Portuguesa   \n",
       "3  1600-488 Lisboa         38.771081          -9.162281        Frangos do Rei   \n",
       "4  1600-488 Lisboa         38.771081          -9.162281         Bar da Filipa   \n",
       "\n",
       "   Venue Latitude  Venue Longitude          Venue Category  \n",
       "0       38.770113        -9.160823  Argentinian Restaurant  \n",
       "1       38.772394        -9.160767                  Bakery  \n",
       "2       38.771939        -9.160664                  Bakery  \n",
       "3       38.770299        -9.159810               BBQ Joint  \n",
       "4       38.772321        -9.160836                    Café  "
      ]
     },
     "execution_count": 12,
     "metadata": {},
     "output_type": "execute_result"
    }
   ],
   "source": [
    "# Get venues associated to each postal code\n",
    "\n",
    "df_venues = getNearbyVenues(names=df['Address'],\n",
    "                            latitudes=df['Latitude'],\n",
    "                            longitudes=df['Longitude']\n",
    "                           )\n",
    "df_venues.head()\n"
   ]
  },
  {
   "cell_type": "code",
   "execution_count": 13,
   "metadata": {},
   "outputs": [
    {
     "data": {
      "text/html": [
       "<div>\n",
       "<style scoped>\n",
       "    .dataframe tbody tr th:only-of-type {\n",
       "        vertical-align: middle;\n",
       "    }\n",
       "\n",
       "    .dataframe tbody tr th {\n",
       "        vertical-align: top;\n",
       "    }\n",
       "\n",
       "    .dataframe thead th {\n",
       "        text-align: right;\n",
       "    }\n",
       "</style>\n",
       "<table border=\"1\" class=\"dataframe\">\n",
       "  <thead>\n",
       "    <tr style=\"text-align: right;\">\n",
       "      <th></th>\n",
       "      <th>Address</th>\n",
       "      <th>Accessories Store</th>\n",
       "      <th>African Restaurant</th>\n",
       "      <th>American Restaurant</th>\n",
       "      <th>Amphitheater</th>\n",
       "      <th>Argentinian Restaurant</th>\n",
       "      <th>Art Gallery</th>\n",
       "      <th>Art Museum</th>\n",
       "      <th>Arts &amp; Crafts Store</th>\n",
       "      <th>Asian Restaurant</th>\n",
       "      <th>...</th>\n",
       "      <th>Thrift / Vintage Store</th>\n",
       "      <th>Tibetan Restaurant</th>\n",
       "      <th>Train Station</th>\n",
       "      <th>Tram Station</th>\n",
       "      <th>Vegetarian / Vegan Restaurant</th>\n",
       "      <th>Vietnamese Restaurant</th>\n",
       "      <th>Waterfront</th>\n",
       "      <th>Wine Bar</th>\n",
       "      <th>Wine Shop</th>\n",
       "      <th>Women's Store</th>\n",
       "    </tr>\n",
       "  </thead>\n",
       "  <tbody>\n",
       "    <tr>\n",
       "      <th>0</th>\n",
       "      <td>1600-488 Lisboa</td>\n",
       "      <td>0</td>\n",
       "      <td>0</td>\n",
       "      <td>0</td>\n",
       "      <td>0</td>\n",
       "      <td>1</td>\n",
       "      <td>0</td>\n",
       "      <td>0</td>\n",
       "      <td>0</td>\n",
       "      <td>0</td>\n",
       "      <td>...</td>\n",
       "      <td>0</td>\n",
       "      <td>0</td>\n",
       "      <td>0</td>\n",
       "      <td>0</td>\n",
       "      <td>0</td>\n",
       "      <td>0</td>\n",
       "      <td>0</td>\n",
       "      <td>0</td>\n",
       "      <td>0</td>\n",
       "      <td>0</td>\n",
       "    </tr>\n",
       "    <tr>\n",
       "      <th>1</th>\n",
       "      <td>1600-488 Lisboa</td>\n",
       "      <td>0</td>\n",
       "      <td>0</td>\n",
       "      <td>0</td>\n",
       "      <td>0</td>\n",
       "      <td>0</td>\n",
       "      <td>0</td>\n",
       "      <td>0</td>\n",
       "      <td>0</td>\n",
       "      <td>0</td>\n",
       "      <td>...</td>\n",
       "      <td>0</td>\n",
       "      <td>0</td>\n",
       "      <td>0</td>\n",
       "      <td>0</td>\n",
       "      <td>0</td>\n",
       "      <td>0</td>\n",
       "      <td>0</td>\n",
       "      <td>0</td>\n",
       "      <td>0</td>\n",
       "      <td>0</td>\n",
       "    </tr>\n",
       "    <tr>\n",
       "      <th>2</th>\n",
       "      <td>1600-488 Lisboa</td>\n",
       "      <td>0</td>\n",
       "      <td>0</td>\n",
       "      <td>0</td>\n",
       "      <td>0</td>\n",
       "      <td>0</td>\n",
       "      <td>0</td>\n",
       "      <td>0</td>\n",
       "      <td>0</td>\n",
       "      <td>0</td>\n",
       "      <td>...</td>\n",
       "      <td>0</td>\n",
       "      <td>0</td>\n",
       "      <td>0</td>\n",
       "      <td>0</td>\n",
       "      <td>0</td>\n",
       "      <td>0</td>\n",
       "      <td>0</td>\n",
       "      <td>0</td>\n",
       "      <td>0</td>\n",
       "      <td>0</td>\n",
       "    </tr>\n",
       "    <tr>\n",
       "      <th>3</th>\n",
       "      <td>1600-488 Lisboa</td>\n",
       "      <td>0</td>\n",
       "      <td>0</td>\n",
       "      <td>0</td>\n",
       "      <td>0</td>\n",
       "      <td>0</td>\n",
       "      <td>0</td>\n",
       "      <td>0</td>\n",
       "      <td>0</td>\n",
       "      <td>0</td>\n",
       "      <td>...</td>\n",
       "      <td>0</td>\n",
       "      <td>0</td>\n",
       "      <td>0</td>\n",
       "      <td>0</td>\n",
       "      <td>0</td>\n",
       "      <td>0</td>\n",
       "      <td>0</td>\n",
       "      <td>0</td>\n",
       "      <td>0</td>\n",
       "      <td>0</td>\n",
       "    </tr>\n",
       "    <tr>\n",
       "      <th>4</th>\n",
       "      <td>1600-488 Lisboa</td>\n",
       "      <td>0</td>\n",
       "      <td>0</td>\n",
       "      <td>0</td>\n",
       "      <td>0</td>\n",
       "      <td>0</td>\n",
       "      <td>0</td>\n",
       "      <td>0</td>\n",
       "      <td>0</td>\n",
       "      <td>0</td>\n",
       "      <td>...</td>\n",
       "      <td>0</td>\n",
       "      <td>0</td>\n",
       "      <td>0</td>\n",
       "      <td>0</td>\n",
       "      <td>0</td>\n",
       "      <td>0</td>\n",
       "      <td>0</td>\n",
       "      <td>0</td>\n",
       "      <td>0</td>\n",
       "      <td>0</td>\n",
       "    </tr>\n",
       "  </tbody>\n",
       "</table>\n",
       "<p>5 rows × 183 columns</p>\n",
       "</div>"
      ],
      "text/plain": [
       "           Address  Accessories Store  African Restaurant  \\\n",
       "0  1600-488 Lisboa                  0                   0   \n",
       "1  1600-488 Lisboa                  0                   0   \n",
       "2  1600-488 Lisboa                  0                   0   \n",
       "3  1600-488 Lisboa                  0                   0   \n",
       "4  1600-488 Lisboa                  0                   0   \n",
       "\n",
       "   American Restaurant  Amphitheater  Argentinian Restaurant  Art Gallery  \\\n",
       "0                    0             0                       1            0   \n",
       "1                    0             0                       0            0   \n",
       "2                    0             0                       0            0   \n",
       "3                    0             0                       0            0   \n",
       "4                    0             0                       0            0   \n",
       "\n",
       "   Art Museum  Arts & Crafts Store  Asian Restaurant  ...  \\\n",
       "0           0                    0                 0  ...   \n",
       "1           0                    0                 0  ...   \n",
       "2           0                    0                 0  ...   \n",
       "3           0                    0                 0  ...   \n",
       "4           0                    0                 0  ...   \n",
       "\n",
       "   Thrift / Vintage Store  Tibetan Restaurant  Train Station  Tram Station  \\\n",
       "0                       0                   0              0             0   \n",
       "1                       0                   0              0             0   \n",
       "2                       0                   0              0             0   \n",
       "3                       0                   0              0             0   \n",
       "4                       0                   0              0             0   \n",
       "\n",
       "   Vegetarian / Vegan Restaurant  Vietnamese Restaurant  Waterfront  Wine Bar  \\\n",
       "0                              0                      0           0         0   \n",
       "1                              0                      0           0         0   \n",
       "2                              0                      0           0         0   \n",
       "3                              0                      0           0         0   \n",
       "4                              0                      0           0         0   \n",
       "\n",
       "   Wine Shop  Women's Store  \n",
       "0          0              0  \n",
       "1          0              0  \n",
       "2          0              0  \n",
       "3          0              0  \n",
       "4          0              0  \n",
       "\n",
       "[5 rows x 183 columns]"
      ]
     },
     "execution_count": 13,
     "metadata": {},
     "output_type": "execute_result"
    }
   ],
   "source": [
    "# One hot encoding\n",
    "df_onehot = pd.get_dummies(df_venues[['Venue Category']], prefix=\"\", prefix_sep=\"\")\n",
    "\n",
    "# add neighborhood column back to dataframe\n",
    "df_onehot['Address'] = df_venues['Address'] \n",
    "\n",
    "# move neighborhood column to the first column\n",
    "fixed_columns = [df_onehot.columns[-1]] + list(df_onehot.columns[:-1])\n",
    "df_onehot = df_onehot[fixed_columns]\n",
    "\n",
    "df_onehot.head()"
   ]
  },
  {
   "cell_type": "code",
   "execution_count": 17,
   "metadata": {},
   "outputs": [],
   "source": [
    "\n",
    "# Group onehot encoded dataframe\n",
    "\n",
    "df_grouped = df_onehot.groupby('Address').mean().reset_index()\n",
    "\n",
    "# Drop Addres column\n",
    "\n",
    "df_grouped = df_grouped.drop('Address', 1)"
   ]
  },
  {
   "cell_type": "code",
   "execution_count": 19,
   "metadata": {},
   "outputs": [
    {
     "data": {
      "image/png": "[encoded data removed]",
      "text/plain": [
       "<Figure size 432x288 with 1 Axes>"
      ]
     },
     "metadata": {
      "needs_background": "light"
     },
     "output_type": "display_data"
    }
   ],
   "source": [
    "# Visualize df_grouped\n",
    "\n",
    "import numpy as np \n",
    "import matplotlib.pyplot as plt\n",
    "\n",
    "plt.pcolor(df_grouped)\n",
    "plt.show()"
   ]
  },
  {
   "cell_type": "code",
   "execution_count": 21,
   "metadata": {},
   "outputs": [],
   "source": [
    "\n",
    "# Divide train and test data\n",
    "\n",
    "from sklearn.model_selection import train_test_split\n",
    "\n",
    "X_train, X_test, y_train, y_test = train_test_split(df_grouped.values, df[\"Label\"].values, test_size=0.33, random_state=42)\n"
   ]
  },
  {
   "cell_type": "code",
   "execution_count": 22,
   "metadata": {},
   "outputs": [
    {
     "name": "stdout",
     "output_type": "stream",
     "text": [
      "(19, 182)\n",
      "(10, 182)\n"
     ]
    }
   ],
   "source": [
    "print(X_train.shape)\n",
    "print(X_test.shape)"
   ]
  },
  {
   "cell_type": "markdown",
   "metadata": {},
   "source": [
    "##### Decision Tree Classifier"
   ]
  },
  {
   "cell_type": "code",
   "execution_count": 23,
   "metadata": {},
   "outputs": [],
   "source": [
    "\n",
    "import pandas as pd\n",
    "from sklearn.tree import DecisionTreeClassifier\n",
    "from sklearn import metrics\n",
    "\n",
    "# Create Decision Tree classifer object\n",
    "clf = DecisionTreeClassifier()\n",
    "\n",
    "# Train Decision Tree Classifer\n",
    "clf = clf.fit(X_train, y_train)\n",
    "\n",
    "#Predict the response for test dataset\n",
    "y_pred = clf.predict(X_test)\n"
   ]
  },
  {
   "cell_type": "code",
   "execution_count": 24,
   "metadata": {
    "scrolled": true
   },
   "outputs": [
    {
     "name": "stdout",
     "output_type": "stream",
     "text": [
      "Accuracy: 0.9\n"
     ]
    }
   ],
   "source": [
    "\n",
    "# Model Accuracy, how often is the classifier correct?\n",
    "print(\"Accuracy using decision trees:\",metrics.accuracy_score(y_test, y_pred))\n"
   ]
  },
  {
   "cell_type": "markdown",
   "metadata": {},
   "source": [
    "##### Support Vector Machine (SVM)"
   ]
  },
  {
   "cell_type": "code",
   "execution_count": 28,
   "metadata": {},
   "outputs": [],
   "source": [
    "from sklearn import svm\n",
    "\n",
    "clf = svm.SVC()\n",
    "clf.fit(X_train, y_train)\n",
    "\n",
    "y_pred = clf.predict(X_test)\n"
   ]
  },
  {
   "cell_type": "code",
   "execution_count": 29,
   "metadata": {},
   "outputs": [
    {
     "name": "stdout",
     "output_type": "stream",
     "text": [
      "Accuracy using SVM: 0.9\n"
     ]
    }
   ],
   "source": [
    "print(\"Accuracy using SVM:\",metrics.accuracy_score(y_test, y_pred))"
   ]
  },
  {
   "cell_type": "markdown",
   "metadata": {},
   "source": [
    "### Discussion\n",
    "\n",
    "As it is possible to see, we were able to obtain an accuracy of 90% using both Decision trees and SVM. This shows how promising this new method to classify new locations for restaurants.\n",
    "\n",
    "However it is important to keep in mind that the current dataset was quite small and in order to get more realistic results a much larger one should be used. Such low quantity of data entries and high amount of features may lead to overfitting, that due to the low amount of data is not visible.\n",
    "\n",
    "Moreover, adding another features besides the location data would also be ideal (these features could include the average cost per person, type of cuisine...)"
   ]
  },
  {
   "cell_type": "markdown",
   "metadata": {},
   "source": [
    "### Conclusion\n",
    "\n",
    "Overall this project was quite useful. It allowed to put into practice everything learned along all the project's progress.\n",
    "\n",
    "Regarding the results obtained they seem good, but due to the low quantity of data, no real conclusion can be made. At most its usefullness falls on the essential train acquired to derive those results.\n"
   ]
  },
  {
   "cell_type": "code",
   "execution_count": null,
   "metadata": {},
   "outputs": [],
   "source": []
  }
 ],
 "metadata": {
  "kernelspec": {
   "display_name": "Python 3.7",
   "language": "python",
   "name": "python3"
  },
  "language_info": {
   "codemirror_mode": {
    "name": "ipython",
    "version": 3
   },
   "file_extension": ".py",
   "mimetype": "text/x-python",
   "name": "python",
   "nbconvert_exporter": "python",
   "pygments_lexer": "ipython3",
   "version": "3.7.9"
  }
 },
 "nbformat": 4,
 "nbformat_minor": 1
}
